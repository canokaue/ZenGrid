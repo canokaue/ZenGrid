{
 "cells": [
  {
   "cell_type": "code",
   "execution_count": 1,
   "metadata": {},
   "outputs": [
    {
     "name": "stdout",
     "output_type": "stream",
     "text": [
      "Using environment in /Users/emunsing/Documents/Coding/github/energyblockchain/env/bin/..\n",
      "Python version 2.7.12 (default, Aug 23 2016, 08:54:23) \n",
      "[GCC 4.2.1 Compatible Apple LLVM 7.3.0 (clang-703.0.31)]\n"
     ]
    }
   ],
   "source": [
    "import sys, os, time\n",
    "from solc import compile_source, compile_files, link_code\n",
    "from ethjsonrpc import EthJsonRpc\n",
    "\n",
    "print(\"Using environment in \"+sys.prefix)\n",
    "print(\"Python version \"+sys.version)"
   ]
  },
  {
   "cell_type": "code",
   "execution_count": 33,
   "metadata": {},
   "outputs": [
    {
     "name": "stdout",
     "output_type": "stream",
     "text": [
      "EthereumJS TestRPC/v1.0.1/ethereum-js\n",
      "Block number 9\n"
     ]
    }
   ],
   "source": [
    "# Initiate connection to ethereum node\n",
    "#   Requires a node running with an RPC connection available at port 8545\n",
    "c = EthJsonRpc('127.0.0.1', 8545)\n",
    "print(c.web3_clientVersion())\n",
    "print(\"Block number %s\"%c.eth_blockNumber())"
   ]
  },
  {
   "cell_type": "code",
   "execution_count": 61,
   "metadata": {
    "collapsed": true
   },
   "outputs": [],
   "source": [
    "source = \"\"\"pragma solidity ^0.4.2;\n",
    "\n",
    "contract mortal {\n",
    "    /* Define variable owner of the type address*/\n",
    "    address owner;\n",
    "\n",
    "    /* this function is executed at initialization and sets the owner of the contract */\n",
    "    function mortal() { owner = msg.sender; }\n",
    "\n",
    "    /* Function to recover the funds on the contract */\n",
    "    function kill() { if (msg.sender == owner) selfdestruct(owner); }\n",
    "}\n",
    "\n",
    "contract greeter is mortal {\n",
    "    /* define variable greeting of the type string */\n",
    "    string greeting;\n",
    "    address greetername;\n",
    "\n",
    "    /* this runs when the contract is executed */\n",
    "    function greeter(string _greeting) public {\n",
    "        greeting = _greeting;\n",
    "        greetername = msg.sender;\n",
    "    }\n",
    "    \n",
    "    /* main function */\n",
    "    function greetme() constant returns (string) {\n",
    "        return greeting;\n",
    "    }\n",
    "    \n",
    "    function originator() constant returns (address ret) {\n",
    "        return greetername;\n",
    "    }\n",
    "    \n",
    "    function greettwo() constant returns (string) {\n",
    "        return greeting;\n",
    "    }\n",
    "\n",
    "}\"\"\""
   ]
  },
  {
   "cell_type": "markdown",
   "metadata": {},
   "source": [
    "- *i* participants/nodes\n",
    "- *t* time periods\n",
    "- *k* ADMM iteration\n",
    "- *z* global ADMM estimate at iteration *k*\n",
    "- *x_i* local variable estimates for node *i*\n",
    "\n",
    "\n",
    "Pseudocode:\n",
    "- Variables:\n",
    "  - Array of *i* addresses (permanent)\n",
    "  - Current iteration (int)\n",
    "  - ADMM variable estimates from each participant: *i* entries, each holding ~3n variables\n",
    "  - Array of people for whom we are still expecting an update this iteration\n",
    "  - Schedule - array, *t* time steps by *i* nodes\n",
    "  \n",
    "- Functions:\n",
    "  - Initialize (list of addresses):\n",
    "    - Initialize the global variable estimates\n",
    "    - Set the schedule to none\n",
    "    - Set the list of people we want to be everyone\n",
    "    - Set the iteration to be 1\n",
    "    - Set the tolerance\n",
    "  - Recieve update (variable estimate)\n",
    "    - Check that iteration is current- if not throw\n",
    "    - Remove message sender from waiting list\n",
    "    - Store estimate in array\n",
    "    - If waiting list is now empty, call updater\n",
    "  - Updater\n",
    "    - Compute the average value\n",
    "    - Compute the change in average value\n",
    "    - If the deviation is above the tolerance\n",
    "      - Increment the current iteration\n",
    "    - Else,\n",
    "      - Save the schedule\n",
    "      - Set the iteration to throw an error\n",
    "  - Get schedule:\n",
    "    - If the schedule is empty, throw\n",
    "    - If we have a schedule, return the schedule for the message sender\n",
    "\n",
    "    \n",
    "Workflow:\n",
    "- Device submits variable estimate\n",
    "- Once all devices have submitted estimates, global variable is updated\n",
    "- Devices poll contract until they see the the iteration number increment\n",
    "- Process loops until global variable change is less than the tolerance\n",
    "- Schedule is saved\n",
    "- Device "
   ]
  },
  {
   "cell_type": "markdown",
   "metadata": {},
   "source": [
    "Private: \n",
    "- Check if still waiting:\n",
    "  - index goes until whitelist length\n",
    "  - \n",
    "  - Loop through whitelist\n",
    "  - if any of those are still waiting, return true\n",
    "  "
   ]
  },
  {
   "cell_type": "code",
   "execution_count": 3,
   "metadata": {
    "collapsed": true
   },
   "outputs": [],
   "source": [
    "source = \"\"\"pragma solidity ^0.4.2;\n",
    "\n",
    "contract aggregator {\n",
    "    address   owner;\n",
    "    uint8     public iteration;\n",
    "    address[] public whitelist;\n",
    "    mapping   (address => bool) public waiting;\n",
    "    \n",
    "    \n",
    "    /* CONSTRUCTOR */\n",
    "    function aggregator (address[] _whitelist) public{\n",
    "        whitelist = _whitelist;\n",
    "        iteration = 1;\n",
    "        resetWaiting();  // Set the waiting flag to 1 for everybody\n",
    "    }\n",
    "        \n",
    "    function stillWaiting () returns (bool) {\n",
    "        for (uint8 i=0; i<whitelist.length; i++){\n",
    "            if (waiting[whitelist[i]]){ return true; }\n",
    "        }\n",
    "        return false;\n",
    "    }\n",
    "    \n",
    "    function resetWaiting () {\n",
    "        // Reset the flag for each address        \n",
    "        for(uint8 i=0; i<whitelist.length; i++){\n",
    "           waiting[ whitelist[i] ] = true;\n",
    "        }\n",
    "    }\n",
    "}\n",
    "\n",
    "\"\"\""
   ]
  },
  {
   "cell_type": "code",
   "execution_count": 10,
   "metadata": {},
   "outputs": [
    {
     "data": {
      "text/plain": [
       "[{u'constant': True,\n",
       "  u'inputs': [],\n",
       "  u'name': u'iteration',\n",
       "  u'outputs': [{u'name': u'', u'type': u'uint8'}],\n",
       "  u'payable': False,\n",
       "  u'type': u'function'},\n",
       " {u'constant': False,\n",
       "  u'inputs': [],\n",
       "  u'name': u'resetWaiting',\n",
       "  u'outputs': [],\n",
       "  u'payable': False,\n",
       "  u'type': u'function'},\n",
       " {u'constant': True,\n",
       "  u'inputs': [{u'name': u'', u'type': u'uint256'}],\n",
       "  u'name': u'whitelist',\n",
       "  u'outputs': [{u'name': u'', u'type': u'address'}],\n",
       "  u'payable': False,\n",
       "  u'type': u'function'},\n",
       " {u'constant': True,\n",
       "  u'inputs': [{u'name': u'', u'type': u'address'}],\n",
       "  u'name': u'waiting',\n",
       "  u'outputs': [{u'name': u'', u'type': u'bool'}],\n",
       "  u'payable': False,\n",
       "  u'type': u'function'},\n",
       " {u'constant': False,\n",
       "  u'inputs': [],\n",
       "  u'name': u'stillWaiting',\n",
       "  u'outputs': [{u'name': u'', u'type': u'bool'}],\n",
       "  u'payable': False,\n",
       "  u'type': u'function'},\n",
       " {u'inputs': [{u'name': u'_whitelist', u'type': u'address[]'}],\n",
       "  u'payable': False,\n",
       "  u'type': u'constructor'}]"
      ]
     },
     "execution_count": 10,
     "metadata": {},
     "output_type": "execute_result"
    }
   ],
   "source": [
    "compiled['<stdin>:aggregator']['abi']"
   ]
  },
  {
   "cell_type": "code",
   "execution_count": 12,
   "metadata": {},
   "outputs": [
    {
     "name": "stdout",
     "output_type": "stream",
     "text": [
      "Contract transaction id is 0x50f15255ba7079c5c53ef6e4214428564c24c4f84f2c2faa2485d29e276d3194\n",
      "Waiting for the contract to be mined into the blockchain...\n",
      "Contract address is 0x884446527421b7a178c42d12620fa9bc98238442\n"
     ]
    }
   ],
   "source": [
    "# Basic contract compiling process.\n",
    "#   Requires that the creating account be unlocked.\n",
    "#   Note that by default, the account will only be unlocked for 5 minutes (300s). \n",
    "#   Specify a different duration in the geth personal.unlockAccount('acct','passwd',300) call, or 0 for no limit\n",
    "\n",
    "compiled = compile_source(source)\n",
    "compiledCode = compiled['<stdin>:aggregator']['bin']\n",
    "compiledCode = '0x'+compiledCode # This is a hack which makes the system work\n",
    "\n",
    "addressList = [x[2:] for x in c.eth_accounts()]\n",
    "contractTx = c.create_contract(c.eth_coinbase(), compiledCode, gas=3000000,sig='aggregator(address[])',args=[addressList])\n",
    "# contractTx = c.create_contract(c.eth_coinbase(), compiledCode, gas=3000000,sig='greeter(string)',args=['Hello World!'])\n",
    "print(\"Contract transaction id is \"+contractTx)\n",
    "\n",
    "print(\"Waiting for the contract to be mined into the blockchain...\")\n",
    "while c.eth_getTransactionReceipt(contractTx) is None:\n",
    "    time.sleep(1)\n",
    "\n",
    "contractAddr = c.get_contract_address(contractTx)\n",
    "print(\"Contract address is \"+contractAddr)"
   ]
  },
  {
   "cell_type": "code",
   "execution_count": 45,
   "metadata": {},
   "outputs": [
    {
     "data": {
      "text/plain": [
       "[3]"
      ]
     },
     "execution_count": 45,
     "metadata": {},
     "output_type": "execute_result"
    }
   ],
   "source": [
    "c.call('0x3f211b2256bc7b64f365cbc7bbff4ae77e22a151','indexer()',[],['int8'])"
   ]
  },
  {
   "cell_type": "code",
   "execution_count": 55,
   "metadata": {},
   "outputs": [
    {
     "data": {
      "text/plain": [
       "[350]"
      ]
     },
     "execution_count": 55,
     "metadata": {},
     "output_type": "execute_result"
    }
   ],
   "source": [
    "c.call('0x3f211b2256bc7b64f365cbc7bbff4ae77e22a151','names(uint256)',[2],['uint256'])"
   ]
  },
  {
   "cell_type": "markdown",
   "metadata": {},
   "source": [
    "# Other Stuff\n",
    "Stackoverflow question at https://stackoverflow.com/questions/44373531/contract-method-not-returning-the-value-while-using-ethjsonrpc-and-pyethapp"
   ]
  },
  {
   "cell_type": "code",
   "execution_count": 132,
   "metadata": {},
   "outputs": [
    {
     "ename": "OSError",
     "evalue": "[Errno 2] No such file or directory",
     "output_type": "error",
     "traceback": [
      "\u001b[0;31m---------------------------------------------------------------------------\u001b[0m",
      "\u001b[0;31mOSError\u001b[0m                                   Traceback (most recent call last)",
      "\u001b[0;32m<ipython-input-132-27e6635c3af1>\u001b[0m in \u001b[0;36m<module>\u001b[0;34m()\u001b[0m\n\u001b[1;32m     14\u001b[0m \"\"\"\n\u001b[1;32m     15\u001b[0m \u001b[0;34m\u001b[0m\u001b[0m\n\u001b[0;32m---> 16\u001b[0;31m \u001b[0mcompiled\u001b[0m \u001b[0;34m=\u001b[0m \u001b[0mcompile_source\u001b[0m\u001b[0;34m(\u001b[0m\u001b[0msource\u001b[0m\u001b[0;34m)\u001b[0m\u001b[0;34m\u001b[0m\u001b[0m\n\u001b[0m\u001b[1;32m     17\u001b[0m \u001b[0;31m# compiled = compile_files(['Solidity/ethjsonrpc_tutorial.sol'])  #Note: Use this to compile from a file\u001b[0m\u001b[0;34m\u001b[0m\u001b[0;34m\u001b[0m\u001b[0m\n\u001b[1;32m     18\u001b[0m \u001b[0mcompiledCode\u001b[0m \u001b[0;34m=\u001b[0m \u001b[0mcompiled\u001b[0m\u001b[0;34m[\u001b[0m\u001b[0;34m'Example'\u001b[0m\u001b[0;34m]\u001b[0m\u001b[0;34m[\u001b[0m\u001b[0;34m'bin'\u001b[0m\u001b[0;34m]\u001b[0m\u001b[0;34m\u001b[0m\u001b[0m\n",
      "\u001b[0;32m/Users/emunsing/Documents/Coding/github/energyblockchain/env/lib/python2.7/site-packages/solc/main.pyc\u001b[0m in \u001b[0;36mcompile_source\u001b[0;34m(source, allow_empty, output_values, **kwargs)\u001b[0m\n\u001b[1;32m    109\u001b[0m     \u001b[0mcompiler_kwargs\u001b[0m \u001b[0;34m=\u001b[0m \u001b[0mdict\u001b[0m\u001b[0;34m(\u001b[0m\u001b[0mstdin\u001b[0m\u001b[0;34m=\u001b[0m\u001b[0msource\u001b[0m\u001b[0;34m,\u001b[0m \u001b[0mcombined_json\u001b[0m\u001b[0;34m=\u001b[0m\u001b[0mcombined_json\u001b[0m\u001b[0;34m,\u001b[0m \u001b[0;34m**\u001b[0m\u001b[0mkwargs\u001b[0m\u001b[0;34m)\u001b[0m\u001b[0;34m\u001b[0m\u001b[0m\n\u001b[1;32m    110\u001b[0m \u001b[0;34m\u001b[0m\u001b[0m\n\u001b[0;32m--> 111\u001b[0;31m     \u001b[0mstdoutdata\u001b[0m\u001b[0;34m,\u001b[0m \u001b[0mstderrdata\u001b[0m\u001b[0;34m,\u001b[0m \u001b[0mcommand\u001b[0m\u001b[0;34m,\u001b[0m \u001b[0mproc\u001b[0m \u001b[0;34m=\u001b[0m \u001b[0msolc_wrapper\u001b[0m\u001b[0;34m(\u001b[0m\u001b[0;34m**\u001b[0m\u001b[0mcompiler_kwargs\u001b[0m\u001b[0;34m)\u001b[0m\u001b[0;34m\u001b[0m\u001b[0m\n\u001b[0m\u001b[1;32m    112\u001b[0m \u001b[0;34m\u001b[0m\u001b[0m\n\u001b[1;32m    113\u001b[0m     \u001b[0mcontracts\u001b[0m \u001b[0;34m=\u001b[0m \u001b[0m_parse_compiler_output\u001b[0m\u001b[0;34m(\u001b[0m\u001b[0mstdoutdata\u001b[0m\u001b[0;34m)\u001b[0m\u001b[0;34m\u001b[0m\u001b[0m\n",
      "\u001b[0;32m/Users/emunsing/Documents/Coding/github/energyblockchain/env/lib/python2.7/site-packages/solc/utils/string.pyc\u001b[0m in \u001b[0;36minner\u001b[0;34m(*args, **kwargs)\u001b[0m\n\u001b[1;32m     83\u001b[0m     \u001b[0;34m@\u001b[0m\u001b[0mfunctools\u001b[0m\u001b[0;34m.\u001b[0m\u001b[0mwraps\u001b[0m\u001b[0;34m(\u001b[0m\u001b[0mfn\u001b[0m\u001b[0;34m)\u001b[0m\u001b[0;34m\u001b[0m\u001b[0m\n\u001b[1;32m     84\u001b[0m     \u001b[0;32mdef\u001b[0m \u001b[0minner\u001b[0m\u001b[0;34m(\u001b[0m\u001b[0;34m*\u001b[0m\u001b[0margs\u001b[0m\u001b[0;34m,\u001b[0m \u001b[0;34m**\u001b[0m\u001b[0mkwargs\u001b[0m\u001b[0;34m)\u001b[0m\u001b[0;34m:\u001b[0m\u001b[0;34m\u001b[0m\u001b[0m\n\u001b[0;32m---> 85\u001b[0;31m         \u001b[0;32mreturn\u001b[0m \u001b[0mforce_obj_to_text\u001b[0m\u001b[0;34m(\u001b[0m\u001b[0mfn\u001b[0m\u001b[0;34m(\u001b[0m\u001b[0;34m*\u001b[0m\u001b[0margs\u001b[0m\u001b[0;34m,\u001b[0m \u001b[0;34m**\u001b[0m\u001b[0mkwargs\u001b[0m\u001b[0;34m)\u001b[0m\u001b[0;34m)\u001b[0m\u001b[0;34m\u001b[0m\u001b[0m\n\u001b[0m\u001b[1;32m     86\u001b[0m     \u001b[0;32mreturn\u001b[0m \u001b[0minner\u001b[0m\u001b[0;34m\u001b[0m\u001b[0m\n",
      "\u001b[0;32m/Users/emunsing/Documents/Coding/github/energyblockchain/env/lib/python2.7/site-packages/solc/wrapper.pyc\u001b[0m in \u001b[0;36msolc_wrapper\u001b[0;34m(solc_binary, stdin, help, version, add_std, combined_json, optimize, optimize_runs, libraries, output_dir, gas, assemble, link, source_files, import_remappings, ast, ast_json, asm, asm_json, opcodes, bin, bin_runtime, clone_bin, abi, interface, hashes, userdoc, devdoc, formal, allow_paths, standard_json, success_return_code)\u001b[0m\n\u001b[1;32m    153\u001b[0m                             \u001b[0mstdin\u001b[0m\u001b[0;34m=\u001b[0m\u001b[0msubprocess\u001b[0m\u001b[0;34m.\u001b[0m\u001b[0mPIPE\u001b[0m\u001b[0;34m,\u001b[0m\u001b[0;34m\u001b[0m\u001b[0m\n\u001b[1;32m    154\u001b[0m                             \u001b[0mstdout\u001b[0m\u001b[0;34m=\u001b[0m\u001b[0msubprocess\u001b[0m\u001b[0;34m.\u001b[0m\u001b[0mPIPE\u001b[0m\u001b[0;34m,\u001b[0m\u001b[0;34m\u001b[0m\u001b[0m\n\u001b[0;32m--> 155\u001b[0;31m                             stderr=subprocess.PIPE)\n\u001b[0m\u001b[1;32m    156\u001b[0m \u001b[0;34m\u001b[0m\u001b[0m\n\u001b[1;32m    157\u001b[0m     \u001b[0mstdoutdata\u001b[0m\u001b[0;34m,\u001b[0m \u001b[0mstderrdata\u001b[0m \u001b[0;34m=\u001b[0m \u001b[0mproc\u001b[0m\u001b[0;34m.\u001b[0m\u001b[0mcommunicate\u001b[0m\u001b[0;34m(\u001b[0m\u001b[0mstdin\u001b[0m\u001b[0;34m)\u001b[0m\u001b[0;34m\u001b[0m\u001b[0m\n",
      "\u001b[0;32m/usr/local/Cellar/python/2.7.12/Frameworks/Python.framework/Versions/2.7/lib/python2.7/subprocess.pyc\u001b[0m in \u001b[0;36m__init__\u001b[0;34m(self, args, bufsize, executable, stdin, stdout, stderr, preexec_fn, close_fds, shell, cwd, env, universal_newlines, startupinfo, creationflags)\u001b[0m\n\u001b[1;32m    709\u001b[0m                                 \u001b[0mp2cread\u001b[0m\u001b[0;34m,\u001b[0m \u001b[0mp2cwrite\u001b[0m\u001b[0;34m,\u001b[0m\u001b[0;34m\u001b[0m\u001b[0m\n\u001b[1;32m    710\u001b[0m                                 \u001b[0mc2pread\u001b[0m\u001b[0;34m,\u001b[0m \u001b[0mc2pwrite\u001b[0m\u001b[0;34m,\u001b[0m\u001b[0;34m\u001b[0m\u001b[0m\n\u001b[0;32m--> 711\u001b[0;31m                                 errread, errwrite)\n\u001b[0m\u001b[1;32m    712\u001b[0m         \u001b[0;32mexcept\u001b[0m \u001b[0mException\u001b[0m\u001b[0;34m:\u001b[0m\u001b[0;34m\u001b[0m\u001b[0m\n\u001b[1;32m    713\u001b[0m             \u001b[0;31m# Preserve original exception in case os.close raises.\u001b[0m\u001b[0;34m\u001b[0m\u001b[0;34m\u001b[0m\u001b[0m\n",
      "\u001b[0;32m/usr/local/Cellar/python/2.7.12/Frameworks/Python.framework/Versions/2.7/lib/python2.7/subprocess.pyc\u001b[0m in \u001b[0;36m_execute_child\u001b[0;34m(self, args, executable, preexec_fn, close_fds, cwd, env, universal_newlines, startupinfo, creationflags, shell, to_close, p2cread, p2cwrite, c2pread, c2pwrite, errread, errwrite)\u001b[0m\n\u001b[1;32m   1341\u001b[0m                         \u001b[0;32mraise\u001b[0m\u001b[0;34m\u001b[0m\u001b[0m\n\u001b[1;32m   1342\u001b[0m                 \u001b[0mchild_exception\u001b[0m \u001b[0;34m=\u001b[0m \u001b[0mpickle\u001b[0m\u001b[0;34m.\u001b[0m\u001b[0mloads\u001b[0m\u001b[0;34m(\u001b[0m\u001b[0mdata\u001b[0m\u001b[0;34m)\u001b[0m\u001b[0;34m\u001b[0m\u001b[0m\n\u001b[0;32m-> 1343\u001b[0;31m                 \u001b[0;32mraise\u001b[0m \u001b[0mchild_exception\u001b[0m\u001b[0;34m\u001b[0m\u001b[0m\n\u001b[0m\u001b[1;32m   1344\u001b[0m \u001b[0;34m\u001b[0m\u001b[0m\n\u001b[1;32m   1345\u001b[0m \u001b[0;34m\u001b[0m\u001b[0m\n",
      "\u001b[0;31mOSError\u001b[0m: [Errno 2] No such file or directory"
     ]
    }
   ],
   "source": [
    "source = \"\"\"pragma solidity ^0.4.2;\n",
    "contract Example {\n",
    "    // Device Registry\n",
    "    mapping (uint => string) public _registry;\n",
    "    uint nIndex= 0; \n",
    "    function set_s(string new_s) {\n",
    "        _registry[nIndex] = new_s;\n",
    "        nIndex = nIndex + 1;\n",
    "    }\n",
    "    function get_s(uint number) returns (string) {\n",
    "        return _registry[number];\n",
    "    } \n",
    "}\n",
    "\"\"\"\n",
    "\n",
    "compiled = compile_source(source)\n",
    "# compiled = compile_files(['Solidity/ethjsonrpc_tutorial.sol'])  #Note: Use this to compile from a file\n",
    "compiledCode = compiled['Example']['bin']\n",
    "compiledCode = '0x'+compiledCode # This is a hack which makes the system work\n",
    "\n",
    "# Put the contract in the pool for mining, with a gas reward for processing\n",
    "contractTx = c.create_contract(c.eth_coinbase(), compiledCode, gas=3000000)\n",
    "print(\"Contract transaction id is \"+contractTx)\n",
    "\n",
    "print(\"Waiting for the contract to be mined into the blockchain...\")\n",
    "while c.eth_getTransactionReceipt(contractTx) is None:\n",
    "    time.sleep(1)\n",
    "\n",
    "contractAddr = c.get_contract_address(contractTx)\n",
    "print(\"Contract address is \"+contractAddr)"
   ]
  },
  {
   "cell_type": "code",
   "execution_count": 110,
   "metadata": {
    "collapsed": true
   },
   "outputs": [],
   "source": [
    "tx = c.call_with_transaction(c.eth_coinbase(), contractAddr, 'set_s(string)', ['Dinesh'])\n",
    "while c.eth_getTransactionReceipt(tx) is None:\n",
    "    time.sleep(1)"
   ]
  }
 ],
 "metadata": {
  "kernelspec": {
   "display_name": "Python 3",
   "language": "python",
   "name": "python3"
  },
  "language_info": {
   "codemirror_mode": {
    "name": "ipython",
    "version": 3
   },
   "file_extension": ".py",
   "mimetype": "text/x-python",
   "name": "python",
   "nbconvert_exporter": "python",
   "pygments_lexer": "ipython3",
   "version": "3.7.2"
  }
 },
 "nbformat": 4,
 "nbformat_minor": 2
}
